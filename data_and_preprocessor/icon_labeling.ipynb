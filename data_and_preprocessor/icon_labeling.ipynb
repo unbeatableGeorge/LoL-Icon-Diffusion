{
 "cells": [
  {
   "cell_type": "code",
   "execution_count": null,
   "id": "initial_id",
   "metadata": {
    "collapsed": true
   },
   "outputs": [],
   "source": [
    ""
   ]
  },
  {
   "metadata": {
    "ExecuteTime": {
     "end_time": "2025-09-11T11:39:27.834953Z",
     "start_time": "2025-09-11T11:39:08.998737Z"
    }
   },
   "cell_type": "code",
   "source": [
    "import os\n",
    "import torch\n",
    "from torch.utils.data import Dataset, DataLoader\n",
    "from PIL import Image\n",
    "import pandas as pd\n",
    "from transformers import CLIPProcessor, CLIPModel\n",
    "\n",
    "device = \"cuda\" if torch.cuda.is_available() else \"cpu\"\n",
    "\n",
    "# 1. 载入 CLIP\n",
    "clip_model = CLIPModel.from_pretrained(\"openai/clip-vit-base-patch32\").to(device)\n",
    "clip_processor = CLIPProcessor.from_pretrained(\"openai/clip-vit-base-patch32\")\n",
    "\n",
    "# 2. 定义 Dataset\n",
    "class IconDataset(Dataset):\n",
    "    def __init__(self, csv_file, img_dir, processor):\n",
    "        df = pd.read_csv(csv_file, names=[\"fname\", \"label\"])\n",
    "\n",
    "        # 过滤掉 NaN 或空字符串\n",
    "        df = df.dropna(subset=[\"label\"])\n",
    "        df = df[df[\"label\"].astype(str).str.strip() != \"\"]\n",
    "\n",
    "        # 转成 int\n",
    "        df[\"label\"] = df[\"label\"].astype(int)\n",
    "\n",
    "        self.data = df.reset_index(drop=True)\n",
    "        self.img_dir = img_dir\n",
    "        self.processor = processor\n",
    "\n",
    "    def __len__(self):\n",
    "        return len(self.data)\n",
    "\n",
    "    def __getitem__(self, idx):\n",
    "        row = self.data.iloc[idx]\n",
    "        img_path = os.path.join(self.img_dir, row[\"fname\"])\n",
    "        image = Image.open(img_path).convert(\"RGB\")\n",
    "        inputs = self.processor(images=image, return_tensors=\"pt\")\n",
    "        pixel_values = inputs[\"pixel_values\"].squeeze(0)\n",
    "        label = torch.tensor(int(row[\"label\"]), dtype=torch.long)\n",
    "        return pixel_values, label\n",
    "\n",
    "img_dir = \"./drive/MyDrive/lol_profile_icons\"\n",
    "dataset = IconDataset(\"./drive/MyDrive/icon_labels.csv\", img_dir, clip_processor)\n"
   ],
   "id": "202e2a33ba1ccc14",
   "outputs": [
    {
     "data": {
      "text/plain": [
       "config.json: 0.00B [00:00, ?B/s]"
      ],
      "application/vnd.jupyter.widget-view+json": {
       "version_major": 2,
       "version_minor": 0,
       "model_id": "1237ccb22c2f45d2b7d3cbe6ca1fbade"
      }
     },
     "metadata": {},
     "output_type": "display_data"
    },
    {
     "data": {
      "text/plain": [
       "pytorch_model.bin:   0%|          | 0.00/605M [00:00<?, ?B/s]"
      ],
      "application/vnd.jupyter.widget-view+json": {
       "version_major": 2,
       "version_minor": 0,
       "model_id": "3e56b06c28c14bdd804b7c801c1be06d"
      }
     },
     "metadata": {},
     "output_type": "display_data"
    },
    {
     "data": {
      "text/plain": [
       "preprocessor_config.json:   0%|          | 0.00/316 [00:00<?, ?B/s]"
      ],
      "application/vnd.jupyter.widget-view+json": {
       "version_major": 2,
       "version_minor": 0,
       "model_id": "311318ba8eeb4ebf8b331d2f8a6392da"
      }
     },
     "metadata": {},
     "output_type": "display_data"
    },
    {
     "data": {
      "text/plain": [
       "tokenizer_config.json:   0%|          | 0.00/592 [00:00<?, ?B/s]"
      ],
      "application/vnd.jupyter.widget-view+json": {
       "version_major": 2,
       "version_minor": 0,
       "model_id": "ef2aaafa2a8e419abff7344000eb8967"
      }
     },
     "metadata": {},
     "output_type": "display_data"
    },
    {
     "data": {
      "text/plain": [
       "vocab.json: 0.00B [00:00, ?B/s]"
      ],
      "application/vnd.jupyter.widget-view+json": {
       "version_major": 2,
       "version_minor": 0,
       "model_id": "2dd4c764dbaa48319e3b968e2c70fb30"
      }
     },
     "metadata": {},
     "output_type": "display_data"
    },
    {
     "data": {
      "text/plain": [
       "merges.txt: 0.00B [00:00, ?B/s]"
      ],
      "application/vnd.jupyter.widget-view+json": {
       "version_major": 2,
       "version_minor": 0,
       "model_id": "ce809aab7a984efa8009d451a877a403"
      }
     },
     "metadata": {},
     "output_type": "display_data"
    },
    {
     "data": {
      "text/plain": [
       "tokenizer.json: 0.00B [00:00, ?B/s]"
      ],
      "application/vnd.jupyter.widget-view+json": {
       "version_major": 2,
       "version_minor": 0,
       "model_id": "76337d3f21184b888788a04d477ac703"
      }
     },
     "metadata": {},
     "output_type": "display_data"
    },
    {
     "data": {
      "text/plain": [
       "special_tokens_map.json:   0%|          | 0.00/389 [00:00<?, ?B/s]"
      ],
      "application/vnd.jupyter.widget-view+json": {
       "version_major": 2,
       "version_minor": 0,
       "model_id": "92547889ab804f97b217f9548c8d5696"
      }
     },
     "metadata": {},
     "output_type": "display_data"
    }
   ],
   "execution_count": 1
  },
  {
   "metadata": {
    "ExecuteTime": {
     "end_time": "2025-09-11T11:39:35.174970Z",
     "start_time": "2025-09-11T11:39:35.169369Z"
    }
   },
   "cell_type": "code",
   "source": [
    "# 冻结 CLIP 参数\n",
    "for p in clip_model.parameters():\n",
    "    p.requires_grad = False\n",
    "\n",
    "# 定义分类头\n",
    "class Classifier(torch.nn.Module):\n",
    "    def __init__(self, feature_dim, hidden_dim=256):\n",
    "        super().__init__()\n",
    "        self.net = torch.nn.Sequential(\n",
    "            torch.nn.Linear(feature_dim, hidden_dim),\n",
    "            torch.nn.ReLU(),\n",
    "            torch.nn.Linear(hidden_dim, 2)  # 二分类\n",
    "        )\n",
    "    def forward(self, x):\n",
    "        return self.net(x)\n",
    "\n",
    "# CLIP 输出的特征维度 = 512 (vit-base-patch32)\n",
    "clf = Classifier(feature_dim=512).to(device)\n"
   ],
   "id": "89877b612dcb1b5f",
   "outputs": [],
   "execution_count": 2
  },
  {
   "metadata": {
    "ExecuteTime": {
     "end_time": "2025-09-11T11:41:28.482656Z",
     "start_time": "2025-09-11T11:41:28.477550Z"
    }
   },
   "cell_type": "code",
   "source": [
    "from torch.utils.data import random_split\n",
    "\n",
    "# 划分训练/验证集\n",
    "train_size = int(0.8 * len(dataset))\n",
    "val_size = len(dataset) - train_size\n",
    "train_ds, val_ds = random_split(dataset, [train_size, val_size])\n",
    "\n",
    "# batch_size 32\n",
    "batch_size = 1\n",
    "train_loader = DataLoader(train_ds, batch_size=batch_size, shuffle=True)\n",
    "val_loader = DataLoader(val_ds, batch_size=batch_size)\n"
   ],
   "id": "4b8511a5132cfc15",
   "outputs": [],
   "execution_count": 8
  },
  {
   "metadata": {
    "ExecuteTime": {
     "end_time": "2025-09-11T11:41:29.608371Z",
     "start_time": "2025-09-11T11:41:29.570891Z"
    }
   },
   "cell_type": "code",
   "source": [
    "\n",
    "# images have dim 512\n",
    "for X, y in train_loader:\n",
    "    print(clip_model.get_image_features(X).shape)\n",
    "    break\n"
   ],
   "id": "17c16895d5ca125e",
   "outputs": [
    {
     "name": "stdout",
     "output_type": "stream",
     "text": [
      "torch.Size([1, 512])\n"
     ]
    }
   ],
   "execution_count": 9
  },
  {
   "metadata": {
    "ExecuteTime": {
     "end_time": "2025-09-11T11:42:04.503325Z",
     "start_time": "2025-09-11T11:42:03.854858Z"
    }
   },
   "cell_type": "code",
   "source": [
    "\n",
    "\n",
    "criterion = torch.nn.CrossEntropyLoss()\n",
    "optimizer = torch.optim.Adam(clf.parameters(), lr=1e-3)\n",
    "\n",
    "EPOCHS = 5\n",
    "for epoch in range(EPOCHS):\n",
    "    clf.train()\n",
    "    for pixel_values, labels in train_loader:\n",
    "        pixel_values, labels = pixel_values.to(device), labels.to(device)\n",
    "\n",
    "        with torch.no_grad():\n",
    "            feats = clip_model.get_image_features(pixel_values)\n",
    "        logits = clf(feats)\n",
    "\n",
    "        loss = criterion(logits, labels)\n",
    "        optimizer.zero_grad()\n",
    "        loss.backward()\n",
    "        optimizer.step()\n",
    "\n",
    "    # 验证\n",
    "    clf.eval()\n",
    "    correct, total = 0, 0\n",
    "    with torch.no_grad():\n",
    "        for pixel_values, labels in val_loader:\n",
    "            pixel_values, labels = pixel_values.to(device), labels.to(device)\n",
    "            feats = clip_model.get_image_features(pixel_values)\n",
    "            logits = clf(feats)\n",
    "            preds = logits.argmax(dim=1)\n",
    "            correct += (preds == labels).sum().item()\n",
    "            total += labels.size(0)\n",
    "    acc = correct / total\n",
    "    print(f\"Epoch {epoch+1}: val acc={acc:.4f}\")\n",
    "\n",
    "clf.eval()\n",
    "results = []\n",
    "with torch.no_grad():\n",
    "    for pixel_values, labels in DataLoader(dataset, batch_size=32):\n",
    "        feats = clip_model.get_image_features(pixel_values.to(device))\n",
    "        logits = clf(feats)\n",
    "        probs = torch.softmax(logits, dim=1)[:,1]  # “喜欢”的概率\n",
    "        results.extend(probs.cpu().numpy())\n",
    "\n",
    "dataset.data[\"prob_like\"] = results\n",
    "dataset.data.to_csv(\"captions.csv\", index=False)\n"
   ],
   "id": "260d23318f27f591",
   "outputs": [
    {
     "name": "stdout",
     "output_type": "stream",
     "text": [
      "Epoch 1: val acc=1.0000\n",
      "Epoch 2: val acc=1.0000\n",
      "Epoch 3: val acc=1.0000\n",
      "Epoch 4: val acc=0.0000\n",
      "Epoch 5: val acc=0.0000\n"
     ]
    }
   ],
   "execution_count": 10
  },
  {
   "metadata": {},
   "cell_type": "code",
   "outputs": [],
   "execution_count": null,
   "source": "",
   "id": "4715dbb13f5f201c"
  }
 ],
 "metadata": {
  "kernelspec": {
   "display_name": "Python (py38)",
   "language": "python",
   "name": "py38"
  },
  "language_info": {
   "codemirror_mode": {
    "name": "ipython",
    "version": 2
   },
   "file_extension": ".py",
   "mimetype": "text/x-python",
   "name": "python",
   "nbconvert_exporter": "python",
   "pygments_lexer": "ipython2",
   "version": "2.7.6"
  }
 },
 "nbformat": 4,
 "nbformat_minor": 5
}
