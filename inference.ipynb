{
 "cells": [
  {
   "cell_type": "code",
   "execution_count": null,
   "id": "initial_id",
   "metadata": {
    "collapsed": true
   },
   "outputs": [],
   "source": [
    "import torch\n",
    "from diffusers import StableDiffusionPipeline\n",
    "\n",
    "BASE_MODEL = \"runwayml/stable-diffusion-v1-5\"\n",
    "LORA_DIR   = \"/kaggle/input/fine-tuning-stable-diffusion-5000iterations\"  # 里面有 pytorch_lora_weights.safetensors\n",
    "OUT_IMG    = \"/kaggle/working/sample_lolicon.png\"\n",
    "\n",
    "pipe = StableDiffusionPipeline.from_pretrained(\n",
    "    BASE_MODEL,\n",
    "    torch_dtype=torch.float16,\n",
    "    safety_checker=None,          # 关掉 NSFW 审查\n",
    "    feature_extractor=None        # diffusers<=0.34 关安全检查时建议一起设 None\n",
    ").to(\"cuda\")\n",
    "\n",
    "# 加载 LoRA（会自动找 lora_out 下的权重）\n",
    "pipe.load_lora_weights(LORA_DIR)\n",
    "# 如果你之后会频繁推理，可融合： pipe.fuse_lora()\n",
    "\n",
    "# 一些省显存/稳妥设置（可选）\n",
    "pipe.enable_attention_slicing()\n",
    "pipe.enable_vae_tiling()"
   ]
  },
  {
   "metadata": {},
   "cell_type": "code",
   "outputs": [],
   "execution_count": null,
   "source": [
    "# prompt = [\"a <lolicon> League of Legends style icon of a magical girl with pink hair and star-shaped eyes, wearing a shining tiara and celestial cloak\",\n",
    "#           \"a <lolicon> League of Legends style icon of a chibi-style mascot character, fluffy hair, oversized eyes, playful smile, colorful background\",\n",
    "#           \"a <lolicon> League of Legends style icon of a little dog\",\n",
    "#           \"a <lolicon> League of Legends style icon of a mighty elephant warrior with glowing blue armor, golden tusks, magical runes on its skin, epic fantasy lighting, cartoon style\",\n",
    "#           \"a <lolicon> League of Legends style icon of a cute chibi elephant with oversized ears, playful smile, colorful jewels, magical aura, cartoon character\",\n",
    "#           \"a <lolicon> League of Legends style icon of a League of Legends style icon of a minimal cartoon elephant, outlined style, flat colors, no background\",\n",
    "#           \"a <lolicon> League of Legends style icon of a cartoon girl with short black hair and glasses, clean simple background\",\n",
    "#           \"a <lolicon> League of Legends style icon of a cartoon character with a red nose and a nosey nose\",\n",
    "#           \"a League of Legends style icon of a mystical mage with glowing staff\"]\n",
    "\n",
    "prompt = [\n",
    "    \"a <lolicon> League of Legends style icon of a mystical mage with glowing staff\",\n",
    "    \"a <lolicon> League of Legends style icon of a dark knight in heavy armor\",\n",
    "    \"a <lolicon> League of Legends style icon of a radiant archer with golden bow\",\n",
    "    \"a <lolicon> League of Legends style icon of a cartoon magical girl with short black hair and glasses, flat colors, simple background\",\n",
    "    \"a <lolicon> League of Legends style icon of a celestial sorceress surrounded by stars\"\n",
    "]\n",
    "\n",
    "\n",
    "negative_prompt = \"realistic, photo, nude, nsfw, text, watermark, logo\"\n",
    "\n",
    "generator = torch.Generator(device=\"cuda\").manual_seed(43)\n",
    "images = pipe(\n",
    "    prompt[3],\n",
    "    negative_prompt=negative_prompt,\n",
    "    num_inference_steps=40,\n",
    "    guidance_scale=4,\n",
    "    generator=generator,\n",
    "    num_images_per_prompt=4,\n",
    "    height = 512,\n",
    "    width = 512\n",
    ").images\n"
   ],
   "id": "b581476842742541"
  },
  {
   "metadata": {},
   "cell_type": "code",
   "outputs": [],
   "execution_count": null,
   "source": [
    "from IPython.display import display\n",
    "for img in images:\n",
    "    display(img)"
   ],
   "id": "2104e0e8f0b5a95b"
  }
 ],
 "metadata": {
  "kernelspec": {
   "display_name": "Python 3",
   "language": "python",
   "name": "python3"
  },
  "language_info": {
   "codemirror_mode": {
    "name": "ipython",
    "version": 2
   },
   "file_extension": ".py",
   "mimetype": "text/x-python",
   "name": "python",
   "nbconvert_exporter": "python",
   "pygments_lexer": "ipython2",
   "version": "2.7.6"
  }
 },
 "nbformat": 4,
 "nbformat_minor": 5
}
